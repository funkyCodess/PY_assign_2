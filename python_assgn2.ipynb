{
  "nbformat": 4,
  "nbformat_minor": 0,
  "metadata": {
    "colab": {
      "provenance": []
    },
    "kernelspec": {
      "name": "python3",
      "display_name": "Python 3"
    },
    "language_info": {
      "name": "python"
    }
  },
  "cells": [
    {
      "cell_type": "markdown",
      "source": [
        "# Data types and structures Questions"
      ],
      "metadata": {
        "id": "-0m54KS-MBDi"
      }
    },
    {
      "cell_type": "markdown",
      "source": [
        "1.  What are data structures, and why are they important ?\n",
        "\n",
        "  - A Data Structure is a specialized format for organizing, managing and storing data in a way that enables efficient access and modification. data structure are foundational concept in computer science and are used in almost every aspect of programming and software development.\n",
        "\n",
        "\n",
        "  **Importance** :-  \n",
        "\n",
        "  -  Efficient Data Handling\n",
        "\n",
        "\n",
        "Data structures enable efficient storage, retrieval, and management of data, reducing time and memory usage.\n",
        "\n",
        "\n",
        " - Algorithm Optimization\n",
        "\n",
        "\n",
        "The choice of an appropriate data structure improves algorithm performance by reducing time complexity and enhancing execution speed.\n",
        "\n",
        "\n",
        " - Real-World Problem Solving\n",
        "\n",
        "\n",
        "They are fundamental in solving complex problems like database management, network routing, and file systems.\n",
        "\n",
        "\n",
        "  - Scalability and Maintainability\n",
        "\n",
        "\n",
        "Proper data structures allow programs to handle large datasets effectively and maintain organized, scalable, and reusable code."
      ],
      "metadata": {
        "id": "FRNrcOo4rsYI"
      }
    },
    {
      "cell_type": "markdown",
      "source": [
        "2 - Explain the difference between mutable and immutable data types with examples ?\n",
        "\n",
        "   - **Mutable Data Types**  -\n",
        "\n",
        "  - Mutable objects can be changed after they are created. You can modify their contents without changing their identity (memory address).\n",
        "\n",
        "Examples in Python:\n",
        "\n",
        "Lists (list)\n",
        "\n",
        "Dictionaries (dict)\n",
        "\n",
        "Sets (set)\n",
        "\n"
      ],
      "metadata": {
        "id": "iPv9f4r3DXXr"
      }
    },
    {
      "cell_type": "code",
      "source": [
        "# Mutable Example: List\n",
        "my_list = [1, 2, 3]\n",
        "print(\"List:\", my_list)\n",
        "\n",
        "my_list[0] = 10\n",
        "print(\"List:\", my_list)\n"
      ],
      "metadata": {
        "colab": {
          "base_uri": "https://localhost:8080/"
        },
        "id": "lNRwmB8pHdRq",
        "outputId": "b04670af-6be6-48a7-ea78-437612f956ef"
      },
      "execution_count": null,
      "outputs": [
        {
          "output_type": "stream",
          "name": "stdout",
          "text": [
            "List: [1, 2, 3]\n",
            "List: [10, 2, 3]\n"
          ]
        }
      ]
    },
    {
      "cell_type": "markdown",
      "source": [
        "**Immutable Data Types** :-\n",
        "\n",
        "   - Immutable objects cannot be changed after they are created. Any operation that tries to modify an immutable object creates a new object instead.\n",
        "\n",
        "\n",
        "Examples in Python:\n",
        "\n",
        "Strings (str)\n",
        "\n",
        "Tuples (tuple)\n",
        "\n",
        "Numbers (int, float, complex)\n",
        "\n",
        "Frozen sets (frozenset)"
      ],
      "metadata": {
        "id": "qTP388KcIf5T"
      }
    },
    {
      "cell_type": "code",
      "source": [
        "# Immutable Example: String\n",
        "my_string = \"hello\"\n",
        "print(\"Original String:\", my_string)\n",
        "\n",
        "# modifing\n",
        "new_string = my_string.replace('h', 'H')\n",
        "print(\"Modified String:\", new_string)\n"
      ],
      "metadata": {
        "colab": {
          "base_uri": "https://localhost:8080/"
        },
        "id": "4Q46M2nwJKnv",
        "outputId": "b8cd2e66-d749-472b-9d2b-cbf91576265c"
      },
      "execution_count": null,
      "outputs": [
        {
          "output_type": "stream",
          "name": "stdout",
          "text": [
            "Original String: hello\n",
            "Modified String: Hello\n"
          ]
        }
      ]
    },
    {
      "cell_type": "markdown",
      "source": [
        "3 -  What are the main differences between lists and tuples in Python ?\n",
        "\n",
        "   **Main Differences Between Lists and Tuples:**\n",
        "\n",
        "   - **Mutability**: Lists are mutable (can be modified), whereas tuples are immutable (cannot be changed after creation).\n",
        "\n",
        "   - **Syntax:** Lists use square brackets [], while tuples use parentheses ().\n",
        "\n",
        "**Performance:** Tuples are faster than lists because of their immutability.\n",
        "Use Case: Lists are used for collections of data that may change, while tuples are used for fixed data or when data integrity is important."
      ],
      "metadata": {
        "id": "Fqd304doHDQl"
      }
    },
    {
      "cell_type": "markdown",
      "source": [
        "4 - Describe how dictionaries store data?\n",
        "\n",
        "  - Dictionaries in Python store data as key-value pairs using a data structure called a hash table, which provides efficient lookups, insertions, and deletions.\n",
        "\n",
        "  - Key-Value Pair Structure\n",
        "Key: A unique identifier for each piece of data. Keys must be immutable (e.g., strings, numbers, tuples with immutable elements) and hashable.\n",
        "Value: The data associated with the key. Values can be of any data type and do not need to be unique.\n",
        "\n",
        "  - Hashing and Hash Tables\n",
        "Hash Function: A hash function generates a fixed-size integer (hash value) from a key.\n",
        "Hash Table: A table where hash values map to storage locations (buckets) for the key-value pairs.\n",
        "\n",
        "  - Storing Data :\n",
        "When you insert a key-value pair into a dictionary:\n",
        "\n",
        "Hashing: The key is passed through a hash function to compute a unique hash value.\n",
        "Bucket Assignment: The hash value determines the bucket (storage location) where the key-value pair will be stored.\n",
        "\n",
        "Collision Handling: If multiple keys generate the same hash value (collision), Python uses open addressing or similar techniques to resolve it.\n",
        "\n",
        "  - Efficiency\n",
        "\n",
        "Average Time Complexity:\n",
        "𝑂(1)\n",
        "O(1) for lookups, insertions, and deletions.\n",
        "\n",
        "Worst-Case Time Complexity:\n",
        "𝑂\n",
        "(\n",
        "𝑛\n",
        ")\n",
        "O(n) due to excessive collisions (rare in practice)."
      ],
      "metadata": {
        "id": "IgM4f4O21m3J"
      }
    },
    {
      "cell_type": "markdown",
      "source": [
        "5. Why Use a Set Instead of a List.\n",
        "\n",
        "  - Sets automatically handle duplicates, ensuring that all elements are unique.\n",
        "  \n",
        "  - Sets offer faster membership testing (in keyword) due to their hash-based implementation.\n",
        "   "
      ],
      "metadata": {
        "id": "Z-YGLHSt9eq1"
      }
    },
    {
      "cell_type": "markdown",
      "source": [
        "6. What Is a String in Python and How Is It Different from a List.\n",
        "\n",
        "  - A string is an immutable sequence of characters.\n",
        "\n",
        "  - A list is a mutable sequence that can store elements of different data types.\n",
        "  \n",
        "  - Strings are immutable and optimized for text handling, while lists are flexible and allow modifications."
      ],
      "metadata": {
        "id": "uwnr9OBw-7HR"
      }
    },
    {
      "cell_type": "markdown",
      "source": [
        "7. How Tuples Ensure Data Integrity.\n",
        "\n",
        "   - Tuples are immutable, meaning their contents cannot be changed after creation. This immutability ensures data consistency and prevents accidental modifications, making tuples ideal for fixed data collections."
      ],
      "metadata": {
        "id": "Kqz4SBZDAd_k"
      }
    },
    {
      "cell_type": "markdown",
      "source": [
        "8. What Is a Hash Table and Its Relation to Dictionaries.\n",
        "\n",
        "  - A hash table is a data structure that maps keys to values using a hash function. Python dictionaries are implemented as hash tables, enabling efficient insertion, deletion, and retrieval operations with an average time complexity of O(1)."
      ],
      "metadata": {
        "id": "1TEZD3W_BCmu"
      }
    },
    {
      "cell_type": "markdown",
      "source": [
        "9. Can Lists Contain Different Data Types in Python?\n",
        "\n",
        "  - Yes, Python lists can hold elements of mixed data types, such as integers, strings, and even other lists."
      ],
      "metadata": {
        "id": "x9BC_Ma3BUwz"
      }
    },
    {
      "cell_type": "markdown",
      "source": [
        "10. Why Are Strings Immutable in Python.\n",
        "\n",
        "  - **Strings are immutable for several reasons**:\n",
        "\n",
        "**Performance**: Immutable objects are faster and easier to optimize.\n",
        "\n",
        "**Hashability**: Strings can be used as dictionary keys because they are immutable.\n",
        "\n",
        "**Thread-Safety**: Immutability prevents accidental changes in multi-threaded environments."
      ],
      "metadata": {
        "id": "hLz9ghVzBfBg"
      }
    },
    {
      "cell_type": "markdown",
      "source": [
        "11. Advantages of Dictionaries Over Lists.\n",
        "\n",
        "  -** Key-Based Access:** Enables quick retrieval using descriptive keys rather than numeric indices.\n",
        "\n",
        "**Efficiency:** Dictionaries offer faster lookups due to hash-based storage.\n",
        "Flexible Data Storage: Supports hierarchical and structured data."
      ],
      "metadata": {
        "id": "0kuvPUFfB_K0"
      }
    },
    {
      "cell_type": "markdown",
      "source": [
        "12. When to Use a Tuple Instead of a List.\n",
        "\n",
        "  - **Tuples are preferable when:**\n",
        "\n",
        "   The data should remain unchanged, like coordinates or constants.\n",
        "You want to use the collection as a dictionary key (tuples are hashable, lists are not)."
      ],
      "metadata": {
        "id": "nEGQG_7wCR2_"
      }
    },
    {
      "cell_type": "markdown",
      "source": [
        "13. How Sets Handle Duplicate Values.\n",
        "\n",
        "  - Sets automatically remove duplicate elements. When adding elements to a set, duplicates are ignored, ensuring all elements are unique."
      ],
      "metadata": {
        "id": "4xGrvjuoCgb0"
      }
    },
    {
      "cell_type": "markdown",
      "source": [
        "14. Difference in “in” Keyword for Lists and Dictionaries.\n",
        "\n",
        "  **Lists:**  Checks if a value exists in the list.\n",
        "\n",
        "  **Dictionaries:**  Checks if a key exists in the dictionary.\n",
        "  \n"
      ],
      "metadata": {
        "id": "F_8EpbgTCq4e"
      }
    },
    {
      "cell_type": "markdown",
      "source": [
        "15. Can You Modify the Elements of a Tuple?\n",
        "\n",
        " - No, tuples are immutable. Once created, their elements cannot be changed. This immutability ensures data consistency and thread-safety.\n",
        "\n"
      ],
      "metadata": {
        "id": "ZEBNcOWk61rB"
      }
    },
    {
      "cell_type": "markdown",
      "source": [
        "16. What Is a Nested Dictionary?\n",
        "\n",
        "  - A nested dictionary is a dictionary that contains other dictionaries as values.  "
      ],
      "metadata": {
        "id": "sIPCexOQJaa0"
      }
    },
    {
      "cell_type": "code",
      "source": [
        "nested_dict = {\n",
        "    \"student1\": {\"name\": \"Amit\", \"age\": 20},\n",
        "    \"student2\": {\"name\": \"Bob\", \"age\": 22}\n",
        "}\n"
      ],
      "metadata": {
        "id": "XSPOokN9DXfF"
      },
      "execution_count": 28,
      "outputs": []
    },
    {
      "cell_type": "markdown",
      "source": [
        "Use Case: Storing structured data like records of multiple entities."
      ],
      "metadata": {
        "id": "0sDln15JDk0W"
      }
    },
    {
      "cell_type": "markdown",
      "source": [
        "17. Time Complexity of Accessing Elements in a Dictionary.\n",
        "\n",
        "  - The average time complexity for accessing elements in a dictionary is O(1) due to the hash table implementation.\n",
        "\n"
      ],
      "metadata": {
        "id": "VvIVWb3cDs3h"
      }
    },
    {
      "cell_type": "markdown",
      "source": [
        "18. Situations Where Lists Are Preferred Over Dictionaries.\n",
        "\n",
        "  - When the order of elements matters.\n",
        "\n",
        "  - When you need sequential data processing or indexing by position.\n",
        "  \n",
        "  - When the dataset is small and does not require key-value relationships."
      ],
      "metadata": {
        "id": "pVVJaVjcD4jI"
      }
    },
    {
      "cell_type": "markdown",
      "source": [
        "19. Why Dictionaries Are Considered Unordered.\n",
        "\n",
        " - Dictionaries are considered unordered because elements are stored based on hash values, not in sequential order. However, as of Python 3.7, dictionaries maintain insertion order, but this is a property, not a requirement."
      ],
      "metadata": {
        "id": "nlDq-ii4ED8o"
      }
    },
    {
      "cell_type": "markdown",
      "source": [
        "20. Difference Between a List and a Dictionary in Data Retrieval.\n",
        "\n",
        "  - **Lists:** Data is retrieved using numerical indices, e.g., list[0].\n",
        "  \n",
        "  - **Dictionaries:** Data is retrieved using keys, e.g., dict[\"key\"], which provides more descriptive access."
      ],
      "metadata": {
        "id": "rMoWPpQsES2b"
      }
    },
    {
      "cell_type": "markdown",
      "source": [
        "# Practical Questions"
      ],
      "metadata": {
        "id": "M2cCudlY6qnK"
      }
    },
    {
      "cell_type": "markdown",
      "source": [],
      "metadata": {
        "id": "me0gH3dS1azz"
      }
    },
    {
      "cell_type": "code",
      "source": [
        "# 1. Create a string with your name and print it\n",
        "my_name = \"Sneha Trivedi\"\n",
        "print(my_name)"
      ],
      "metadata": {
        "colab": {
          "base_uri": "https://localhost:8080/"
        },
        "id": "xTmfVoiU1b4U",
        "outputId": "586e55f9-ef4b-4a70-cafb-029ea0bb556e"
      },
      "execution_count": 1,
      "outputs": [
        {
          "output_type": "stream",
          "name": "stdout",
          "text": [
            "Sneha Trivedi\n"
          ]
        }
      ]
    },
    {
      "cell_type": "code",
      "execution_count": 2,
      "metadata": {
        "id": "F22LZCLx2EHE",
        "colab": {
          "base_uri": "https://localhost:8080/"
        },
        "outputId": "f1e8c66f-efe1-42a6-8042-be46b4939cd2"
      },
      "outputs": [
        {
          "output_type": "stream",
          "name": "stdout",
          "text": [
            "11\n"
          ]
        }
      ],
      "source": [
        "# 2. Find the length of the string \"Hello World\"\n",
        "string_length = len(\"Hello World\")\n",
        "print(string_length)"
      ]
    },
    {
      "cell_type": "code",
      "source": [
        "# 3. Slice the first 3 characters from the string \"Python Programming\"\n",
        "sliced_string = \"Python Programming\"[:3]\n",
        "print(sliced_string)"
      ],
      "metadata": {
        "colab": {
          "base_uri": "https://localhost:8080/"
        },
        "id": "u4jcL-X71t5u",
        "outputId": "cb4b3bbe-c5aa-4d91-f9e6-4551a54a6501"
      },
      "execution_count": 3,
      "outputs": [
        {
          "output_type": "stream",
          "name": "stdout",
          "text": [
            "Pyt\n"
          ]
        }
      ]
    },
    {
      "cell_type": "code",
      "source": [
        "# 4. Convert the string \"hello\" to uppercase\n",
        "uppercase_string = \"hello\".upper()\n",
        "print(uppercase_string)\n"
      ],
      "metadata": {
        "colab": {
          "base_uri": "https://localhost:8080/"
        },
        "id": "JT_HUuHO1218",
        "outputId": "905d1d30-1eb4-485d-95e0-d850b86ef6d8"
      },
      "execution_count": 4,
      "outputs": [
        {
          "output_type": "stream",
          "name": "stdout",
          "text": [
            "HELLO\n"
          ]
        }
      ]
    },
    {
      "cell_type": "code",
      "source": [
        "# 5. Replace the word \"apple\" with \"orange\" in the string \"I like apple\"\n",
        "replaced_string = \"I like apple\".replace(\"apple\", \"orange\")\n",
        "print(replaced_string)"
      ],
      "metadata": {
        "colab": {
          "base_uri": "https://localhost:8080/"
        },
        "id": "GRNvL1Av2Dex",
        "outputId": "3f3b5120-4f1c-413e-92cf-cace9d2da216"
      },
      "execution_count": 5,
      "outputs": [
        {
          "output_type": "stream",
          "name": "stdout",
          "text": [
            "I like orange\n"
          ]
        }
      ]
    },
    {
      "cell_type": "code",
      "source": [
        "# 6. Create a list with numbers 1 to 5 and print it\n",
        "number_list = [1, 2, 3, 4, 5]\n",
        "print(number_list)"
      ],
      "metadata": {
        "colab": {
          "base_uri": "https://localhost:8080/"
        },
        "id": "nmvfwy912OZU",
        "outputId": "cb8dae9a-9550-4d5b-e0b4-651e90596f43"
      },
      "execution_count": 6,
      "outputs": [
        {
          "output_type": "stream",
          "name": "stdout",
          "text": [
            "[1, 2, 3, 4, 5]\n"
          ]
        }
      ]
    },
    {
      "cell_type": "code",
      "source": [
        "# 7. Append the number 10 to the list [1, 2, 3, 4]\n",
        "list_to_append = [1, 2, 3, 4]\n",
        "list_to_append.append(10)\n",
        "print(list_to_append)"
      ],
      "metadata": {
        "colab": {
          "base_uri": "https://localhost:8080/"
        },
        "id": "0sfuLgV52lAD",
        "outputId": "f3faf45f-6688-482d-ac34-8b56f8df6946"
      },
      "execution_count": 7,
      "outputs": [
        {
          "output_type": "stream",
          "name": "stdout",
          "text": [
            "[1, 2, 3, 4, 10]\n"
          ]
        }
      ]
    },
    {
      "cell_type": "code",
      "source": [
        "# 8. Remove the number 3 from the list [1, 2, 3, 4, 5]\n",
        "list_to_remove = [1, 2, 3, 4, 5]\n",
        "list_to_remove.remove(3)\n",
        "print(list_to_remove)\n"
      ],
      "metadata": {
        "colab": {
          "base_uri": "https://localhost:8080/"
        },
        "id": "LtVkh9dN3GcJ",
        "outputId": "4193623a-378c-41ea-a052-87e3bb51e539"
      },
      "execution_count": 10,
      "outputs": [
        {
          "output_type": "stream",
          "name": "stdout",
          "text": [
            "[1, 2, 4, 5]\n"
          ]
        }
      ]
    },
    {
      "cell_type": "code",
      "source": [
        "# 9. Access the second element in the list ['a', 'b', 'c', 'd']\n",
        "list_access = ['a', 'b', 'c', 'd']\n",
        "second_element = list_access[1]\n",
        "print(second_element)"
      ],
      "metadata": {
        "colab": {
          "base_uri": "https://localhost:8080/"
        },
        "id": "A1vZD5Hc3TNs",
        "outputId": "a6170ed8-17c3-493c-a043-4f02812522e9"
      },
      "execution_count": 11,
      "outputs": [
        {
          "output_type": "stream",
          "name": "stdout",
          "text": [
            "b\n"
          ]
        }
      ]
    },
    {
      "cell_type": "code",
      "source": [
        "# 10. Reverse the list [10, 20, 30, 40, 50]\n",
        "list_to_reverse = [10, 20, 30, 40, 50]\n",
        "reversed_list = list_to_reverse[::-1]\n",
        "print(reversed_list)"
      ],
      "metadata": {
        "colab": {
          "base_uri": "https://localhost:8080/"
        },
        "id": "HjBDt-ed3prL",
        "outputId": "e482f08d-84d4-48f6-afd9-8395c7211eeb"
      },
      "execution_count": 12,
      "outputs": [
        {
          "output_type": "stream",
          "name": "stdout",
          "text": [
            "[50, 40, 30, 20, 10]\n"
          ]
        }
      ]
    },
    {
      "cell_type": "code",
      "source": [
        "# 11. Create a tuple with the elements 10, 20, 30 and print it\n",
        "tuple1 = (10, 20, 30)\n",
        "print(tuple1)"
      ],
      "metadata": {
        "colab": {
          "base_uri": "https://localhost:8080/"
        },
        "id": "NPTPjZyI3zee",
        "outputId": "2fbf096e-2895-4c26-937a-3f51bf03bd5b"
      },
      "execution_count": 13,
      "outputs": [
        {
          "output_type": "stream",
          "name": "stdout",
          "text": [
            "(10, 20, 30)\n"
          ]
        }
      ]
    },
    {
      "cell_type": "code",
      "source": [
        "# 12. Access the first element of the tuple ('apple', 'banana', 'cherry')\n",
        "fruit_tuple = ('apple', 'banana', 'cherry')\n",
        "first_element = fruit_tuple[0]\n",
        "print(first_element)"
      ],
      "metadata": {
        "colab": {
          "base_uri": "https://localhost:8080/"
        },
        "id": "QlvX-AhO4CGp",
        "outputId": "57bb5be6-7f3e-4440-f047-77c2882e1047"
      },
      "execution_count": 14,
      "outputs": [
        {
          "output_type": "stream",
          "name": "stdout",
          "text": [
            "apple\n"
          ]
        }
      ]
    },
    {
      "cell_type": "code",
      "source": [
        "# 13. Count how many times the number 2 appears in the tuple (1, 2, 3, 2, 4, 2)\n",
        "count_tuple = (1, 2, 3, 2, 4, 2)\n",
        "count_of_two = count_tuple.count(2)\n",
        "print(count_of_two)"
      ],
      "metadata": {
        "colab": {
          "base_uri": "https://localhost:8080/"
        },
        "id": "4_QTamJQ4Ggt",
        "outputId": "8a25c0c6-4379-4988-d9f1-4bf2513d1944"
      },
      "execution_count": 15,
      "outputs": [
        {
          "output_type": "stream",
          "name": "stdout",
          "text": [
            "3\n"
          ]
        }
      ]
    },
    {
      "cell_type": "code",
      "source": [
        "# 14. Find the index of the element \"cat\" in the tuple ('dog', 'cat', 'rabbit')\n",
        "animal_tuple = ('dog', 'cat', 'rabbit')\n",
        "cat_index = animal_tuple.index('cat')\n",
        "print(cat_index)"
      ],
      "metadata": {
        "colab": {
          "base_uri": "https://localhost:8080/"
        },
        "id": "yUSwVeAM4RQq",
        "outputId": "f1a23525-f3a0-4c83-d5f8-5c38b0c42750"
      },
      "execution_count": 16,
      "outputs": [
        {
          "output_type": "stream",
          "name": "stdout",
          "text": [
            "1\n"
          ]
        }
      ]
    },
    {
      "cell_type": "code",
      "source": [
        "# 15. Check if the element \"banana\" is in the tuple ('apple', 'orange', 'banana')\n",
        "check_tuple = ('apple', 'orange', 'banana')\n",
        "is_banana_in_tuple = 'banana' in check_tuple\n",
        "print(is_banana_in_tuple)"
      ],
      "metadata": {
        "colab": {
          "base_uri": "https://localhost:8080/"
        },
        "id": "tcx_8TnR4bk8",
        "outputId": "c48b60e9-ccbb-4da7-9a0b-42c57d5a5748"
      },
      "execution_count": 17,
      "outputs": [
        {
          "output_type": "stream",
          "name": "stdout",
          "text": [
            "True\n"
          ]
        }
      ]
    },
    {
      "cell_type": "code",
      "source": [
        "# 16. Create a set with the elements 1, 2, 3, 4, 5 and print it\n",
        "set1 = {1, 2, 3, 4, 5}\n",
        "print(set1)"
      ],
      "metadata": {
        "colab": {
          "base_uri": "https://localhost:8080/"
        },
        "id": "efJnbW9h4i37",
        "outputId": "9fd8a1cd-b2cf-4321-a47a-d662bc836b42"
      },
      "execution_count": 18,
      "outputs": [
        {
          "output_type": "stream",
          "name": "stdout",
          "text": [
            "{1, 2, 3, 4, 5}\n"
          ]
        }
      ]
    },
    {
      "cell_type": "code",
      "source": [
        "# 17. Add the element 6 to the set {1, 2, 3, 4}\n",
        "set_to_add = {1, 2, 3, 4}\n",
        "set_to_add.add(6)\n",
        "print(set_to_add)"
      ],
      "metadata": {
        "colab": {
          "base_uri": "https://localhost:8080/"
        },
        "id": "iNAEpu2a44PY",
        "outputId": "e87edf18-6746-4b50-d17d-c4f10fb6a24b"
      },
      "execution_count": 19,
      "outputs": [
        {
          "output_type": "stream",
          "name": "stdout",
          "text": [
            "{1, 2, 3, 4, 6}\n"
          ]
        }
      ]
    },
    {
      "cell_type": "code",
      "source": [
        "# 18. Create a tuple with the elements 10, 20, 30 and print it\n",
        "tuple2 = (10, 20, 30)\n",
        "print(tuple2)"
      ],
      "metadata": {
        "colab": {
          "base_uri": "https://localhost:8080/"
        },
        "id": "QMqQECXE5PPj",
        "outputId": "976ed677-66fa-47b9-9098-14fabcc44d16"
      },
      "execution_count": 20,
      "outputs": [
        {
          "output_type": "stream",
          "name": "stdout",
          "text": [
            "(10, 20, 30)\n"
          ]
        }
      ]
    },
    {
      "cell_type": "code",
      "source": [
        "# 19. Access the first element of the tuple ('apple', 'banana', 'cherry')\n",
        "first_fruit = fruit_tuple[0]\n",
        "print(first_fruit)"
      ],
      "metadata": {
        "colab": {
          "base_uri": "https://localhost:8080/"
        },
        "id": "qhUS4QdL5UE7",
        "outputId": "4cdf1cbb-1234-4b81-8e82-3bc683ad51e0"
      },
      "execution_count": 21,
      "outputs": [
        {
          "output_type": "stream",
          "name": "stdout",
          "text": [
            "apple\n"
          ]
        }
      ]
    },
    {
      "cell_type": "code",
      "source": [
        "# 20. Count how many times the number 2 appears in the tuple (1, 2, 3, 2, 4, 2)\n",
        "count_of_two_again = count_tuple.count(2)\n",
        "print(count_of_two_again)"
      ],
      "metadata": {
        "colab": {
          "base_uri": "https://localhost:8080/"
        },
        "id": "ai4RPyP55kcs",
        "outputId": "88e018f7-ff01-42ba-af2a-989d49d785a1"
      },
      "execution_count": 22,
      "outputs": [
        {
          "output_type": "stream",
          "name": "stdout",
          "text": [
            "3\n"
          ]
        }
      ]
    },
    {
      "cell_type": "code",
      "source": [
        "# 21. Find the index of the element \"cat\" in the tuple ('dog', 'cat', 'rabbit')\n",
        "cat_index_again = animal_tuple.index('cat')\n",
        "print(cat_index_again)"
      ],
      "metadata": {
        "colab": {
          "base_uri": "https://localhost:8080/"
        },
        "id": "feKk6kEJ5-GX",
        "outputId": "e6566166-70f0-4d58-aeb3-4de4aa792d30"
      },
      "execution_count": 23,
      "outputs": [
        {
          "output_type": "stream",
          "name": "stdout",
          "text": [
            "1\n"
          ]
        }
      ]
    },
    {
      "cell_type": "code",
      "source": [
        "# 22. Check if the element \"banana\" is in the tuple ('apple', 'orange', 'banana')\n",
        "is_banana_in_tuple_again = 'banana' in check_tuple\n",
        "print(is_banana_in_tuple_again)"
      ],
      "metadata": {
        "colab": {
          "base_uri": "https://localhost:8080/"
        },
        "id": "jopUFCQj6G76",
        "outputId": "3c86e4a5-e4a0-4001-b98c-f19397ad6efc"
      },
      "execution_count": 24,
      "outputs": [
        {
          "output_type": "stream",
          "name": "stdout",
          "text": [
            "True\n"
          ]
        }
      ]
    },
    {
      "cell_type": "code",
      "source": [
        "# 23. Create a set with the elements 1, 2, 3, 4, 5 and print it\n",
        "set2 = {1, 2, 3, 4, 5}\n",
        "print(set2)"
      ],
      "metadata": {
        "colab": {
          "base_uri": "https://localhost:8080/"
        },
        "id": "D0iyrUXF6NlX",
        "outputId": "1b197d8f-2b8e-48b3-996c-ef23cde5a79a"
      },
      "execution_count": 25,
      "outputs": [
        {
          "output_type": "stream",
          "name": "stdout",
          "text": [
            "{1, 2, 3, 4, 5}\n"
          ]
        }
      ]
    },
    {
      "cell_type": "code",
      "source": [
        "# 24. Add the element 6 to the set {1, 2, 3, 4}\n",
        "set_to_add_again = {1, 2, 3, 4}\n",
        "set_to_add_again.add(6)\n",
        "print(set_to_add_again)"
      ],
      "metadata": {
        "colab": {
          "base_uri": "https://localhost:8080/"
        },
        "id": "XEJVnX5U6RpI",
        "outputId": "601be0c2-303a-4275-d71d-49d209c5a5b5"
      },
      "execution_count": 26,
      "outputs": [
        {
          "output_type": "stream",
          "name": "stdout",
          "text": [
            "{1, 2, 3, 4, 6}\n"
          ]
        }
      ]
    },
    {
      "cell_type": "code",
      "source": [],
      "metadata": {
        "id": "SuurYbsE6mp9"
      },
      "execution_count": null,
      "outputs": []
    }
  ]
}